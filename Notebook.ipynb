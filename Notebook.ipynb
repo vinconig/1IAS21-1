{
 "cells": [
  {
   "cell_type": "code",
   "execution_count": null,
   "id": "44ef6d5a",
   "metadata": {},
   "outputs": [],
   "source": []
  },
  {
   "cell_type": "markdown",
   "id": "b4e19b04",
   "metadata": {},
   "source": []
  }
 ],
 "metadata": {
  "language_info": {
   "name": "python"
  }
 },
 "nbformat": 4,
 "nbformat_minor": 5
}
